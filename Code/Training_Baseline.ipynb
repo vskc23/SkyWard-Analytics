{
  "nbformat": 4,
  "nbformat_minor": 0,
  "metadata": {
    "colab": {
      "provenance": [],
      "gpuType": "T4"
    },
    "kernelspec": {
      "name": "python3",
      "display_name": "Python 3"
    },
    "language_info": {
      "name": "python"
    },
    "accelerator": "GPU"
  },
  "cells": [
    {
      "cell_type": "code",
      "execution_count": null,
      "metadata": {
        "colab": {
          "base_uri": "https://localhost:8080/"
        },
        "id": "bBucuTwKQ5F0",
        "outputId": "94656ab6-7478-469d-9de8-42e07192c85b"
      },
      "outputs": [
        {
          "output_type": "stream",
          "name": "stdout",
          "text": [
            "Drive already mounted at /content/drive; to attempt to forcibly remount, call drive.mount(\"/content/drive\", force_remount=True).\n"
          ]
        }
      ],
      "source": [
        "from google.colab import drive\n",
        "drive.mount('/content/drive')"
      ]
    },
    {
      "cell_type": "code",
      "source": [
        "import numpy as np\n",
        "import pandas as pd\n",
        "\n",
        "from collections import Counter\n",
        "import seaborn as sns\n",
        "import matplotlib.pyplot as plt\n",
        "from sklearn import tree\n",
        "from sklearn.linear_model import LogisticRegression\n",
        "from sklearn.metrics import classification_report, roc_auc_score,precision_score,recall_score\n",
        "from sklearn.preprocessing import LabelEncoder\n",
        "\n",
        "#warnings\n",
        "import warnings\n",
        "warnings.filterwarnings(\"ignore\")"
      ],
      "metadata": {
        "id": "OFPcgIVEQ6rv"
      },
      "execution_count": null,
      "outputs": []
    },
    {
      "cell_type": "code",
      "source": [
        "# Loading Dataset\n",
        "transport_df = pd.read_csv(\"/content/drive/MyDrive/data/Transport_5_years/combined_transport_Sep.csv\")"
      ],
      "metadata": {
        "id": "8ZuKCgntRDOu"
      },
      "execution_count": null,
      "outputs": []
    },
    {
      "cell_type": "code",
      "source": [
        "len(transport_df)"
      ],
      "metadata": {
        "id": "dd8ireN1ZY5k",
        "outputId": "4eaa1001-b252-4ae8-ac38-03fb6b073877",
        "colab": {
          "base_uri": "https://localhost:8080/"
        }
      },
      "execution_count": null,
      "outputs": [
        {
          "output_type": "execute_result",
          "data": {
            "text/plain": [
              "2594209"
            ]
          },
          "metadata": {},
          "execution_count": 6
        }
      ]
    },
    {
      "cell_type": "code",
      "source": [
        "# Dropping columns which are irrelevant / Directly relate to delay\n",
        "data = transport_df.drop(['OP_UNIQUE_CARRIER','OP_CARRIER_AIRLINE_ID','TAIL_NUM', 'ORIGIN_CITY_MARKET_ID',\n",
        "                          'ORIGIN_AIRPORT_ID','ORIGIN_AIRPORT_SEQ_ID','DEST_AIRPORT_ID','DEST_AIRPORT_SEQ_ID',\n",
        "                          'CANCELLATION_CODE', 'CARRIER_DELAY', 'WEATHER_DELAY', 'NAS_DELAY', 'SECURITY_DELAY', 'NAS_DELAY', 'LATE_AIRCRAFT_DELAY'], axis=1)\n",
        "data = data.set_index('OP_CARRIER_FL_NUM')"
      ],
      "metadata": {
        "id": "K-sjk7pyRSHd"
      },
      "execution_count": null,
      "outputs": []
    },
    {
      "cell_type": "code",
      "source": [
        "nulls = data.isna().sum()\n",
        "nulls"
      ],
      "metadata": {
        "colab": {
          "base_uri": "https://localhost:8080/"
        },
        "id": "p-pMnlWOcihA",
        "outputId": "6b1c80a2-f7f4-44e5-9c61-d0774614383d"
      },
      "execution_count": null,
      "outputs": [
        {
          "output_type": "execute_result",
          "data": {
            "text/plain": [
              "YEAR                       0\n",
              "MONTH                      0\n",
              "DAY_OF_MONTH               0\n",
              "DAY_OF_WEEK                0\n",
              "FL_DATE                    0\n",
              "ORIGIN                     0\n",
              "ORIGIN_CITY_NAME           0\n",
              "ORIGIN_STATE_ABR           0\n",
              "ORIGIN_STATE_NM            0\n",
              "DEST_CITY_MARKET_ID        0\n",
              "DEST                       0\n",
              "DEST_CITY_NAME             0\n",
              "DEST_STATE_ABR             0\n",
              "DEST_STATE_NM              0\n",
              "DEP_TIME               33245\n",
              "DEP_DELAY              33249\n",
              "DEP_DELAY_NEW          33249\n",
              "DEP_DEL15              33249\n",
              "ARR_TIME               34752\n",
              "ARR_DELAY              39409\n",
              "ARR_DELAY_NEW          39409\n",
              "ARR_DEL15              39409\n",
              "CANCELLED                  0\n",
              "DIVERTED                   0\n",
              "DISTANCE                   0\n",
              "dtype: int64"
            ]
          },
          "metadata": {},
          "execution_count": 5
        }
      ]
    },
    {
      "cell_type": "code",
      "source": [
        "# Dropping Rows with Null Values\n",
        "data.dropna(inplace=True)\n",
        "len(data)"
      ],
      "metadata": {
        "colab": {
          "base_uri": "https://localhost:8080/"
        },
        "id": "aRyjJkrHR3vK",
        "outputId": "3e389f20-b132-4028-d001-bb8f29f1e6dc"
      },
      "execution_count": null,
      "outputs": [
        {
          "output_type": "execute_result",
          "data": {
            "text/plain": [
              "2554800"
            ]
          },
          "metadata": {},
          "execution_count": 6
        }
      ]
    },
    {
      "cell_type": "code",
      "source": [
        "# Helper function to create Time-Blocks\n",
        "def arr_time(x):\n",
        "\n",
        "  if x >= 600 and x < 1200:\n",
        "    return 'MORNING'\n",
        "  elif x>=1200 and x<1600:\n",
        "    return 'AFTERNOON'\n",
        "  elif x>=1600 and x<2000:\n",
        "    return 'EVENING'\n",
        "  elif x>=2000 and x<0:\n",
        "    return 'NIGHT'\n",
        "  elif x>=0 and x<600:\n",
        "    return 'MIDNIGHT'\n",
        "\n",
        "data['ARR_TIME'] = data['ARR_TIME'].astype('int')\n",
        "data['ARR_TIME_BLOCK'] = data['ARR_TIME'].apply(lambda x :arr_time(x))\n",
        "data['DEP_TIME'] = data['DEP_TIME'].astype('int')\n",
        "data['DEP_TIME_BLOCK'] = data['DEP_TIME'].apply(lambda x :arr_time(x))\n",
        "data = data.drop(columns=[ 'ARR_TIME', 'DEP_TIME'])\n",
        "data.reset_index(inplace=True)"
      ],
      "metadata": {
        "id": "mrVdUcM1SAWe"
      },
      "execution_count": null,
      "outputs": []
    },
    {
      "cell_type": "code",
      "source": [
        "# Label Encoding\n",
        "label_encoder = LabelEncoder()\n",
        "label_encoder.fit(pd.concat([data['DEST'], data['ORIGIN']]))\n",
        "\n",
        "data[\"ORIGIN\"] = label_encoder.transform(data['ORIGIN'])\n",
        "data[\"DEST\"] = label_encoder.transform(data['DEST'])\n",
        "data[\"PATH\"] = data[\"ORIGIN\"] - data[\"DEST\"]\n",
        "\n",
        "data = data.drop(columns=[ 'DEP_DELAY_NEW', 'ORIGIN', 'DEST'])\n",
        "data.reset_index(inplace=True)\n",
        "\n",
        "data[\"IsDelay\"] = np.where((data['DEP_DEL15'] == 1) | (data['ARR_DEL15'] == 1), 1, 0)\n",
        "data = data.drop(columns=['DEP_DEL15', 'ARR_DEL15'])"
      ],
      "metadata": {
        "id": "SuWRqBWSUmDT"
      },
      "execution_count": null,
      "outputs": []
    },
    {
      "cell_type": "code",
      "source": [
        "data = data.drop(columns=['FL_DATE', 'index', 'ORIGIN_CITY_NAME',\t'ORIGIN_STATE_ABR',\t'ORIGIN_STATE_NM',\t'DEST_CITY_MARKET_ID',\t'DEST_CITY_NAME',\t'DEST_STATE_ABR', 'DEST_STATE_NM'])"
      ],
      "metadata": {
        "id": "OKrVNngTfhu4"
      },
      "execution_count": null,
      "outputs": []
    },
    {
      "cell_type": "code",
      "source": [
        "data[\"ARR_TIME_BLOCK\"] = label_encoder.fit_transform(data['ARR_TIME_BLOCK'])\n",
        "data[\"DEP_TIME_BLOCK\"] = label_encoder.fit_transform(data['DEP_TIME_BLOCK'])"
      ],
      "metadata": {
        "id": "mTo_YUCxgIIQ"
      },
      "execution_count": null,
      "outputs": []
    },
    {
      "cell_type": "code",
      "source": [
        "data = data.drop(columns=['YEAR', 'DEP_DELAY', 'ARR_DELAY', 'ARR_DELAY_NEW', 'CANCELLED'])"
      ],
      "metadata": {
        "id": "15IlxlrL0zu8"
      },
      "execution_count": null,
      "outputs": []
    },
    {
      "cell_type": "code",
      "source": [
        "# Creating Train-Test Split\n",
        "X = data.drop(columns=[\"IsDelay\"])\n",
        "Y = data[\"IsDelay\"]\n",
        "\n",
        "from sklearn.preprocessing import MinMaxScaler\n",
        "from sklearn.model_selection import train_test_split\n",
        "\n",
        "X_train, X_test, y_train, y_test = train_test_split(X, Y, random_state = 0)"
      ],
      "metadata": {
        "id": "GZugBREfWxe5"
      },
      "execution_count": null,
      "outputs": []
    },
    {
      "cell_type": "code",
      "source": [
        "# Normalization\n",
        "scaler = MinMaxScaler()\n",
        "X_train_scaled = scaler.fit_transform(X_train)\n",
        "X_test_scaled = scaler.transform(X_test)"
      ],
      "metadata": {
        "id": "PjPeCL8Shasg"
      },
      "execution_count": null,
      "outputs": []
    },
    {
      "cell_type": "code",
      "source": [],
      "metadata": {
        "id": "8rcmW6DD0yW-"
      },
      "execution_count": null,
      "outputs": []
    },
    {
      "cell_type": "code",
      "source": [
        "# Logistic Regression\n",
        "\n",
        "from sklearn.linear_model import LogisticRegression\n",
        "model = LogisticRegression()\n",
        "model.fit(X_train_scaled, y_train)\n",
        "\n",
        "model.score(X_test_scaled ,y_test)"
      ],
      "metadata": {
        "colab": {
          "base_uri": "https://localhost:8080/"
        },
        "id": "SoAuOEhwXEtN",
        "outputId": "91d0c2a8-4f59-443f-e47e-41d51db7e395"
      },
      "execution_count": null,
      "outputs": [
        {
          "output_type": "execute_result",
          "data": {
            "text/plain": [
              "0.8225771097541882"
            ]
          },
          "metadata": {},
          "execution_count": 19
        }
      ]
    },
    {
      "cell_type": "code",
      "source": [
        "# Random Forest\n",
        "\n",
        "from sklearn.ensemble import RandomForestClassifier\n",
        "from sklearn.metrics import accuracy_score, classification_report\n",
        "\n",
        "# {'max_depth': 20, 'min_samples_leaf': 2, 'min_samples_split': 5, 'n_estimators': 200}\n",
        "# Best params determined from Grid Search\n",
        "rf_model = RandomForestClassifier(max_depth=20, min_samples_leaf=2, min_samples_split=5, n_estimators=200, random_state=0)\n",
        "# rf_model = RandomForestClassifier(n_estimators=100, random_state=0)\n",
        "rf_model.fit(X_train_scaled, y_train)\n",
        "\n",
        "y_pred = rf_model.predict(X_test_scaled)\n",
        "\n",
        "accuracy = accuracy_score(y_test, y_pred)\n",
        "print(\"Accuracy of Random Forest model:\", accuracy)\n",
        "print(\"Classification Report:\\n\", classification_report(y_test, y_pred))"
      ],
      "metadata": {
        "id": "YOXx0EL3WhUY",
        "colab": {
          "base_uri": "https://localhost:8080/"
        },
        "outputId": "ee02d835-20fa-4b67-99f3-4550f8597bfd"
      },
      "execution_count": null,
      "outputs": [
        {
          "output_type": "stream",
          "name": "stdout",
          "text": [
            "Accuracy of Random Forest model: 0.8309879442617818\n",
            "Classification Report:\n",
            "               precision    recall  f1-score   support\n",
            "\n",
            "           0       0.83      0.99      0.91    525380\n",
            "           1       0.71      0.08      0.14    113320\n",
            "\n",
            "    accuracy                           0.83    638700\n",
            "   macro avg       0.77      0.54      0.52    638700\n",
            "weighted avg       0.81      0.83      0.77    638700\n",
            "\n"
          ]
        }
      ]
    },
    {
      "cell_type": "code",
      "source": [
        "# XG-Boost\n",
        "\n",
        "import xgboost as xgb\n",
        "\n",
        "xgb_classifier = xgb.XGBClassifier()\n",
        "xgb_classifier.fit(X_train_scaled, y_train)\n",
        "\n",
        "y_pred = xgb_classifier.predict(X_test_scaled)\n",
        "\n",
        "accuracy = accuracy_score(y_test, y_pred)\n",
        "print(\"Accuracy of Random Forest model:\", accuracy)\n",
        "print(\"Classification Report:\\n\", classification_report(y_test, y_pred))"
      ],
      "metadata": {
        "colab": {
          "base_uri": "https://localhost:8080/"
        },
        "id": "5R4VEgRJ2KbA",
        "outputId": "51d57e5b-ad87-4017-9a7f-b40ff4ec73e4"
      },
      "execution_count": null,
      "outputs": [
        {
          "output_type": "stream",
          "name": "stdout",
          "text": [
            "Accuracy of Random Forest model: 0.8287427587286677\n",
            "Classification Report:\n",
            "               precision    recall  f1-score   support\n",
            "\n",
            "           0       0.83      0.99      0.90    525380\n",
            "           1       0.65      0.08      0.14    113320\n",
            "\n",
            "    accuracy                           0.83    638700\n",
            "   macro avg       0.74      0.53      0.52    638700\n",
            "weighted avg       0.80      0.83      0.77    638700\n",
            "\n"
          ]
        }
      ]
    },
    {
      "cell_type": "code",
      "source": [
        "# Suport Vector Classifier\n",
        "\n",
        "from sklearn.svm import SVC\n",
        "from sklearn.metrics import accuracy_score, classification_report\n",
        "\n",
        "svm_model = SVC(kernel='linear', C=1.0, random_state=0)\n",
        "\n",
        "svm_model.fit(X_train_scaled, y_train)\n",
        "\n",
        "y_pred_svm = svm_model.predict(X_test_scaled)\n",
        "\n",
        "accuracy_svm = accuracy_score(y_test, y_pred_svm)\n",
        "print(\"Accuracy of SVM model:\", accuracy_svm)\n",
        "print(\"Classification Report for SVM:\\n\", classification_report(y_test, y_pred_svm))"
      ],
      "metadata": {
        "id": "m6BXE2WDhvVS"
      },
      "execution_count": null,
      "outputs": []
    },
    {
      "cell_type": "code",
      "source": [
        "# Grid Search for Random Forest\n",
        "\n",
        "from sklearn.ensemble import RandomForestClassifier\n",
        "from sklearn.model_selection import GridSearchCV\n",
        "\n",
        "rf = RandomForestClassifier(random_state=0)\n",
        "\n",
        "param_grid = {\n",
        "    'n_estimators': [100, 200, 300],\n",
        "    'max_depth': [10, 20, 30],\n",
        "    'min_samples_split': [2, 5, 10],\n",
        "    'min_samples_leaf': [1, 2, 4]\n",
        "}\n",
        "\n",
        "grid_search = GridSearchCV(estimator=rf, param_grid=param_grid, cv=3, n_jobs=-1, verbose=2, scoring='accuracy')\n",
        "\n",
        "grid_search.fit(X_train_scaled, y_train)\n",
        "\n",
        "print(\"Best parameters:\", grid_search.best_params_)\n",
        "print(\"Best cross-validation score: {:.2f}\".format(grid_search.best_score_))\n",
        "\n",
        "rf_best = grid_search.best_estimator_\n",
        "y_pred = rf_best.predict(X_test_scaled)\n",
        "\n",
        "accuracy = accuracy_score(y_test, y_pred)\n",
        "print(\"Accuracy with optimized Random Forest:\", accuracy)"
      ],
      "metadata": {
        "id": "AryXo8UJhyFQ"
      },
      "execution_count": null,
      "outputs": []
    },
    {
      "cell_type": "code",
      "source": [],
      "metadata": {
        "id": "RhdKJup3imWc"
      },
      "execution_count": null,
      "outputs": []
    }
  ]
}