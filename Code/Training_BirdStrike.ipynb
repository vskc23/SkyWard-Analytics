{
  "cells": [
    {
      "cell_type": "code",
      "execution_count": null,
      "metadata": {
        "colab": {
          "base_uri": "https://localhost:8080/"
        },
        "id": "4GapFxC75hM6",
        "outputId": "0a4b3721-5802-41b5-d78d-b2798fad69f3"
      },
      "outputs": [
        {
          "output_type": "stream",
          "name": "stdout",
          "text": [
            "Mounted at /content/drive\n"
          ]
        }
      ],
      "source": [
        "from google.colab import drive\n",
        "drive.mount('/content/drive')"
      ]
    },
    {
      "cell_type": "code",
      "execution_count": null,
      "metadata": {
        "id": "vf_oD4bD7P1c"
      },
      "outputs": [],
      "source": [
        "import pandas as pd\n",
        "import matplotlib.pyplot as plt\n",
        "import seaborn as sns\n",
        "import numpy as np\n",
        "from sklearn.preprocessing import LabelEncoder\n",
        "from sklearn.metrics import accuracy_score, classification_report"
      ]
    },
    {
      "cell_type": "markdown",
      "source": [
        "# Creative Solution - Integrating BirdStrike Dataset"
      ],
      "metadata": {
        "id": "FCadhxBZKZXd"
      }
    },
    {
      "cell_type": "code",
      "execution_count": null,
      "metadata": {
        "colab": {
          "base_uri": "https://localhost:8080/"
        },
        "id": "nq8q9meTz74l",
        "outputId": "2ce3a7f7-0e37-42f1-b80b-f8b3f56c1433"
      },
      "outputs": [
        {
          "output_type": "stream",
          "name": "stderr",
          "text": [
            "<ipython-input-3-8f675b38142b>:2: DtypeWarning: Columns (60,134) have mixed types. Specify dtype option on import or set low_memory=False.\n",
            "  combined_df = pd.read_csv(\"/content/drive/MyDrive/SD/combined_all_SD.csv\")\n"
          ]
        }
      ],
      "source": [
        "# Loading Dataset\n",
        "combined_df = pd.read_csv(\"/content/drive/MyDrive/SD/combined_all_SD.csv\")"
      ]
    },
    {
      "cell_type": "code",
      "source": [
        "# Selecting Relevant colums\n",
        "\n",
        "columns_to_retain = ['MONTH', 'ORIGIN', 'DEST', 'DEP_DELAY_NEW', 'DEP_DEL15', 'ARR_DELAY_NEW', 'DEP_DEL15', 'ARR_DEL15', 'DISTANCE_x',\n",
        "                     'PHASE_OF_FLIGHT', 'AOS', 'PRECIPITATION', 'SKY', 'ARR_TIME', 'DEP_TIME',\n",
        "                     'STR_RAD',\t'STR_WINDSHLD',\t'STR_NOSE',\t'STR_ENG1',\t'STR_ENG2', 'STR_ENG3', 'STR_ENG4',\t'STR_PROP',\n",
        "                     'STR_WING_ROT',\t'STR_FUSE', 'STR_LG', 'STR_TAIL', 'STR_LGHTS']\n",
        "\n",
        "data = combined_df[columns_to_retain]"
      ],
      "metadata": {
        "id": "Y2HKDi67nAte"
      },
      "execution_count": null,
      "outputs": []
    },
    {
      "cell_type": "code",
      "source": [],
      "metadata": {
        "id": "N1KypIIX37We"
      },
      "execution_count": null,
      "outputs": []
    },
    {
      "cell_type": "code",
      "source": [
        "# Feature Engineering\n",
        "\n",
        "data[\"IsDelay\"] = np.where((combined_df['DEP_DEL15'] == 1) | (combined_df['ARR_DEL15'] == 1), 1, 0)\n",
        "\n",
        "label_encoder = LabelEncoder()\n",
        "label_encoder.fit(pd.concat([data['DEST'], data['ORIGIN']]))\n",
        "\n",
        "data[\"ORIGIN\"] = label_encoder.transform(data['ORIGIN'])\n",
        "data[\"DEST\"] = label_encoder.transform(data['DEST'])\n",
        "data[\"PATH\"] = data[\"ORIGIN\"] - data[\"DEST\"]\n",
        "\n",
        "data = data.drop(columns=['DEP_DEL15', 'ARR_DEL15', 'DEP_DELAY_NEW', 'ARR_DELAY_NEW', 'ORIGIN', 'DEST'])"
      ],
      "metadata": {
        "colab": {
          "base_uri": "https://localhost:8080/"
        },
        "id": "ieXEghu8hvwM",
        "outputId": "2dee2108-2525-431d-9a4c-40e32b3dfa59"
      },
      "execution_count": null,
      "outputs": [
        {
          "output_type": "stream",
          "name": "stderr",
          "text": [
            "<ipython-input-5-4f594489268d>:3: SettingWithCopyWarning: \n",
            "A value is trying to be set on a copy of a slice from a DataFrame.\n",
            "Try using .loc[row_indexer,col_indexer] = value instead\n",
            "\n",
            "See the caveats in the documentation: https://pandas.pydata.org/pandas-docs/stable/user_guide/indexing.html#returning-a-view-versus-a-copy\n",
            "  data[\"IsDelay\"] = np.where((combined_df['DEP_DEL15'] == 1) | (combined_df['ARR_DEL15'] == 1), 1, 0)\n",
            "<ipython-input-5-4f594489268d>:8: SettingWithCopyWarning: \n",
            "A value is trying to be set on a copy of a slice from a DataFrame.\n",
            "Try using .loc[row_indexer,col_indexer] = value instead\n",
            "\n",
            "See the caveats in the documentation: https://pandas.pydata.org/pandas-docs/stable/user_guide/indexing.html#returning-a-view-versus-a-copy\n",
            "  data[\"ORIGIN\"] = label_encoder.transform(data['ORIGIN'])\n",
            "<ipython-input-5-4f594489268d>:9: SettingWithCopyWarning: \n",
            "A value is trying to be set on a copy of a slice from a DataFrame.\n",
            "Try using .loc[row_indexer,col_indexer] = value instead\n",
            "\n",
            "See the caveats in the documentation: https://pandas.pydata.org/pandas-docs/stable/user_guide/indexing.html#returning-a-view-versus-a-copy\n",
            "  data[\"DEST\"] = label_encoder.transform(data['DEST'])\n",
            "<ipython-input-5-4f594489268d>:10: SettingWithCopyWarning: \n",
            "A value is trying to be set on a copy of a slice from a DataFrame.\n",
            "Try using .loc[row_indexer,col_indexer] = value instead\n",
            "\n",
            "See the caveats in the documentation: https://pandas.pydata.org/pandas-docs/stable/user_guide/indexing.html#returning-a-view-versus-a-copy\n",
            "  data[\"PATH\"] = data[\"ORIGIN\"] - data[\"DEST\"]\n"
          ]
        }
      ]
    },
    {
      "cell_type": "code",
      "source": [
        "# Creating Time-Blocks\n",
        "\n",
        "def arr_time(x):\n",
        "\n",
        "  if x >= 600 and x < 1200:\n",
        "    return 'MORNING'\n",
        "  elif x>=1200 and x<1600:\n",
        "    return 'AFTERNOON'\n",
        "  elif x>=1600 and x<2000:\n",
        "    return 'EVENING'\n",
        "  elif x>=2000 and x<0:\n",
        "    return 'NIGHT'\n",
        "  elif x>=0 and x<600:\n",
        "    return 'MIDNIGHT'\n",
        "\n",
        "data['ARR_TIME'] = data['ARR_TIME'].astype('int')\n",
        "data['ARR_TIME_BLOCK'] = data['ARR_TIME'].apply(lambda x :arr_time(x))\n",
        "data['DEP_TIME'] = data['DEP_TIME'].astype('int')\n",
        "data['DEP_TIME_BLOCK'] = data['DEP_TIME'].apply(lambda x :arr_time(x))\n",
        "data = data.drop(columns=[ 'ARR_TIME', 'DEP_TIME'])\n",
        "data.reset_index(inplace=True)"
      ],
      "metadata": {
        "id": "MhHG5A1i39qb"
      },
      "execution_count": null,
      "outputs": []
    },
    {
      "cell_type": "code",
      "source": [
        "# Encoding Categorical Variables\n",
        "\n",
        "label_encoder = LabelEncoder()\n",
        "data[\"PHASE_OF_FLIGHT\"] = label_encoder.fit_transform(data['PHASE_OF_FLIGHT'])\n",
        "data[\"PRECIPITATION\"] = label_encoder.fit_transform(data['PRECIPITATION'])\n",
        "data[\"SKY\"] = label_encoder.fit_transform(data['SKY'])\n",
        "data['DEP_TIME_BLOCK'] = label_encoder.fit_transform(data['DEP_TIME_BLOCK'])\n",
        "data['ARR_TIME_BLOCK'] = label_encoder.fit_transform(data['ARR_TIME_BLOCK'])"
      ],
      "metadata": {
        "id": "azi2-ff0nYk4"
      },
      "execution_count": null,
      "outputs": []
    },
    {
      "cell_type": "code",
      "source": [
        "data = data.drop(columns=['index'])"
      ],
      "metadata": {
        "id": "D3lUjfJg4MtD"
      },
      "execution_count": null,
      "outputs": []
    },
    {
      "cell_type": "code",
      "source": [],
      "metadata": {
        "id": "_oYCnt2QlsLa"
      },
      "execution_count": null,
      "outputs": []
    },
    {
      "cell_type": "code",
      "source": [
        "# Creating Train-Test Split\n",
        "\n",
        "X = data.drop(columns=[\"IsDelay\"])\n",
        "Y = data[\"IsDelay\"]\n",
        "\n",
        "from sklearn.preprocessing import MinMaxScaler\n",
        "from sklearn.model_selection import train_test_split\n",
        "\n",
        "X_train, X_test, y_train, y_test = train_test_split(X, Y, random_state = 0)"
      ],
      "metadata": {
        "id": "iGBk7ag1rXVL"
      },
      "execution_count": null,
      "outputs": []
    },
    {
      "cell_type": "code",
      "source": [
        "# Normalization\n",
        "\n",
        "scaler = MinMaxScaler()\n",
        "X_train_scaled = scaler.fit_transform(X_train)\n",
        "X_test_scaled = scaler.transform(X_test)"
      ],
      "metadata": {
        "id": "eGNG98B_LHaG"
      },
      "execution_count": null,
      "outputs": []
    },
    {
      "cell_type": "markdown",
      "source": [
        "Model Training"
      ],
      "metadata": {
        "id": "Akv5hsUYLZXd"
      }
    },
    {
      "cell_type": "code",
      "source": [
        "# Logistic Regression\n",
        "\n",
        "from sklearn.linear_model import LogisticRegression\n",
        "model = LogisticRegression()\n",
        "model.fit(X_train_scaled, y_train)\n",
        "\n",
        "y_pred = model.predict(X_test_scaled)\n",
        "\n",
        "accuracy = accuracy_score(y_test, y_pred)\n",
        "print(\"Accuracy of Logistic Regression model:\", accuracy)\n",
        "print(\"Classification Report for Logistic Regression:\\n\", classification_report(y_test, y_pred))"
      ],
      "metadata": {
        "colab": {
          "base_uri": "https://localhost:8080/"
        },
        "id": "S01M3TClrXRt",
        "outputId": "4ce12414-2da5-4d1d-d4c3-0764129021a8"
      },
      "execution_count": null,
      "outputs": [
        {
          "output_type": "stream",
          "name": "stdout",
          "text": [
            "Accuracy of Logistic Regression model: 0.7408491947291361\n",
            "Classification Report for Logistic Regression:\n",
            "               precision    recall  f1-score   support\n",
            "\n",
            "           0       0.74      1.00      0.85      5060\n",
            "           1       0.00      0.00      0.00      1770\n",
            "\n",
            "    accuracy                           0.74      6830\n",
            "   macro avg       0.37      0.50      0.43      6830\n",
            "weighted avg       0.55      0.74      0.63      6830\n",
            "\n"
          ]
        },
        {
          "output_type": "stream",
          "name": "stderr",
          "text": [
            "/usr/local/lib/python3.10/dist-packages/sklearn/metrics/_classification.py:1344: UndefinedMetricWarning: Precision and F-score are ill-defined and being set to 0.0 in labels with no predicted samples. Use `zero_division` parameter to control this behavior.\n",
            "  _warn_prf(average, modifier, msg_start, len(result))\n",
            "/usr/local/lib/python3.10/dist-packages/sklearn/metrics/_classification.py:1344: UndefinedMetricWarning: Precision and F-score are ill-defined and being set to 0.0 in labels with no predicted samples. Use `zero_division` parameter to control this behavior.\n",
            "  _warn_prf(average, modifier, msg_start, len(result))\n",
            "/usr/local/lib/python3.10/dist-packages/sklearn/metrics/_classification.py:1344: UndefinedMetricWarning: Precision and F-score are ill-defined and being set to 0.0 in labels with no predicted samples. Use `zero_division` parameter to control this behavior.\n",
            "  _warn_prf(average, modifier, msg_start, len(result))\n"
          ]
        }
      ]
    },
    {
      "cell_type": "code",
      "source": [
        "# Random Forest Classifier\n",
        "\n",
        "from sklearn.ensemble import RandomForestClassifier\n",
        "from sklearn.metrics import accuracy_score, classification_report\n",
        "\n",
        "# {'max_depth': 20, 'min_samples_leaf': 2, 'min_samples_split': 5, 'n_estimators': 200}\n",
        "# Best params determined from Grid Search\n",
        "rf_model = RandomForestClassifier(max_depth=20, min_samples_leaf=2, min_samples_split=5, n_estimators=200, random_state=0)\n",
        "rf_model.fit(X_train_scaled, y_train)\n",
        "\n",
        "y_pred = rf_model.predict(X_test_scaled)\n",
        "\n",
        "accuracy = accuracy_score(y_test, y_pred)\n",
        "print(\"Accuracy of Random Forest model:\", accuracy)\n",
        "print(\"Classification Report for SVM:\\n\", classification_report(y_test, y_pred))"
      ],
      "metadata": {
        "colab": {
          "base_uri": "https://localhost:8080/"
        },
        "id": "HPIUOwB9xzvi",
        "outputId": "5ae0574f-d7bf-4a71-d459-8f0dd4de9051"
      },
      "execution_count": null,
      "outputs": [
        {
          "output_type": "stream",
          "name": "stdout",
          "text": [
            "Accuracy of Random Forest model: 0.7541727672035139\n",
            "Classification Report for SVM:\n",
            "               precision    recall  f1-score   support\n",
            "\n",
            "           0       0.76      0.98      0.85      5060\n",
            "           1       0.64      0.11      0.19      1770\n",
            "\n",
            "    accuracy                           0.75      6830\n",
            "   macro avg       0.70      0.55      0.52      6830\n",
            "weighted avg       0.73      0.75      0.68      6830\n",
            "\n"
          ]
        }
      ]
    },
    {
      "cell_type": "code",
      "source": [
        "# Support Vector Classifier\n",
        "\n",
        "from sklearn.svm import SVC\n",
        "from sklearn.metrics import accuracy_score, classification_report\n",
        "\n",
        "svm_model = SVC(kernel='linear', C=1.0, random_state=0)\n",
        "\n",
        "svm_model.fit(X_train_scaled, y_train)\n",
        "\n",
        "y_pred_svm = svm_model.predict(X_test_scaled)\n",
        "\n",
        "accuracy_svm = accuracy_score(y_test, y_pred_svm)\n",
        "print(\"Accuracy of SVM model:\", accuracy_svm)\n",
        "print(\"Classification Report for SVM:\\n\", classification_report(y_test, y_pred_svm))"
      ],
      "metadata": {
        "colab": {
          "base_uri": "https://localhost:8080/"
        },
        "id": "Wdxo_Q8groyb",
        "outputId": "e6999edc-a567-4318-fcc9-f1f143871e15"
      },
      "execution_count": null,
      "outputs": [
        {
          "output_type": "stream",
          "name": "stdout",
          "text": [
            "Accuracy of SVM model: 0.7408491947291361\n",
            "Classification Report for SVM:\n",
            "               precision    recall  f1-score   support\n",
            "\n",
            "           0       0.74      1.00      0.85      5060\n",
            "           1       0.00      0.00      0.00      1770\n",
            "\n",
            "    accuracy                           0.74      6830\n",
            "   macro avg       0.37      0.50      0.43      6830\n",
            "weighted avg       0.55      0.74      0.63      6830\n",
            "\n"
          ]
        },
        {
          "output_type": "stream",
          "name": "stderr",
          "text": [
            "/usr/local/lib/python3.10/dist-packages/sklearn/metrics/_classification.py:1344: UndefinedMetricWarning: Precision and F-score are ill-defined and being set to 0.0 in labels with no predicted samples. Use `zero_division` parameter to control this behavior.\n",
            "  _warn_prf(average, modifier, msg_start, len(result))\n",
            "/usr/local/lib/python3.10/dist-packages/sklearn/metrics/_classification.py:1344: UndefinedMetricWarning: Precision and F-score are ill-defined and being set to 0.0 in labels with no predicted samples. Use `zero_division` parameter to control this behavior.\n",
            "  _warn_prf(average, modifier, msg_start, len(result))\n",
            "/usr/local/lib/python3.10/dist-packages/sklearn/metrics/_classification.py:1344: UndefinedMetricWarning: Precision and F-score are ill-defined and being set to 0.0 in labels with no predicted samples. Use `zero_division` parameter to control this behavior.\n",
            "  _warn_prf(average, modifier, msg_start, len(result))\n"
          ]
        }
      ]
    },
    {
      "cell_type": "code",
      "source": [
        "# XG-Boost\n",
        "\n",
        "import xgboost as xgb\n",
        "\n",
        "xgb_classifier = xgb.XGBClassifier()\n",
        "xgb_classifier.fit(X_train_scaled, y_train)\n",
        "\n",
        "y_pred = xgb_classifier.predict(X_test_scaled)\n",
        "\n",
        "accuracy = accuracy_score(y_test, y_pred)\n",
        "print(\"Accuracy of Random Forest model:\", accuracy)\n",
        "print(\"Classification Report:\\n\", classification_report(y_test, y_pred))"
      ],
      "metadata": {
        "colab": {
          "base_uri": "https://localhost:8080/"
        },
        "id": "KJ7x0JuPBjNn",
        "outputId": "b8c29ad6-f246-4b9b-e749-0a9fc0a45daa"
      },
      "execution_count": null,
      "outputs": [
        {
          "output_type": "stream",
          "name": "stdout",
          "text": [
            "Accuracy of Random Forest model: 0.7380673499267936\n",
            "Classification Report:\n",
            "               precision    recall  f1-score   support\n",
            "\n",
            "           0       0.76      0.93      0.84      5060\n",
            "           1       0.49      0.18      0.26      1770\n",
            "\n",
            "    accuracy                           0.74      6830\n",
            "   macro avg       0.62      0.56      0.55      6830\n",
            "weighted avg       0.69      0.74      0.69      6830\n",
            "\n"
          ]
        }
      ]
    },
    {
      "cell_type": "code",
      "source": [
        "# Grid SearchCv for Random Forest\n",
        "\n",
        "from sklearn.ensemble import RandomForestClassifier\n",
        "from sklearn.model_selection import GridSearchCV\n",
        "\n",
        "rf = RandomForestClassifier(random_state=0)\n",
        "\n",
        "param_grid = {\n",
        "    'n_estimators': [100, 200, 300],\n",
        "    'max_depth': [10, 20, 30],\n",
        "    'min_samples_split': [2, 5, 10],\n",
        "    'min_samples_leaf': [1, 2, 4]\n",
        "}\n",
        "\n",
        "grid_search = GridSearchCV(estimator=rf, param_grid=param_grid, cv=3, n_jobs=-1, verbose=2, scoring='accuracy')\n",
        "\n",
        "grid_search.fit(X_train_scaled, y_train)\n",
        "\n",
        "print(\"Best parameters:\", grid_search.best_params_)\n",
        "print(\"Best cross-validation score: {:.2f}\".format(grid_search.best_score_))\n",
        "\n",
        "rf_best = grid_search.best_estimator_\n",
        "y_pred = rf_best.predict(X_test_scaled)\n",
        "\n",
        "accuracy = accuracy_score(y_test, y_pred)\n",
        "print(\"Accuracy with optimized Random Forest:\", accuracy)"
      ],
      "metadata": {
        "colab": {
          "base_uri": "https://localhost:8080/"
        },
        "id": "wpdNO1uurov-",
        "outputId": "90ebdb72-d7a6-4d0a-8880-e07c2f88f22f"
      },
      "execution_count": null,
      "outputs": [
        {
          "output_type": "stream",
          "name": "stdout",
          "text": [
            "Fitting 3 folds for each of 81 candidates, totalling 243 fits\n",
            "Best parameters: {'max_depth': 10, 'min_samples_leaf': 1, 'min_samples_split': 10, 'n_estimators': 300}\n",
            "Best cross-validation score: 0.75\n",
            "Accuracy with optimized Random Forest: 0.746705710102489\n"
          ]
        }
      ]
    },
    {
      "cell_type": "code",
      "source": [
        "# Recurrsive Feature Elimination\n",
        "\n",
        "from sklearn.feature_selection import RFE\n",
        "from sklearn.svm import SVC\n",
        "\n",
        "estimator = RandomForestClassifier(max_depth=20, min_samples_leaf=2, min_samples_split=5, n_estimators=200, random_state=0)\n",
        "selector = RFE(estimator, step=1)\n",
        "selector = selector.fit(X_train_scaled, y_train)"
      ],
      "metadata": {
        "id": "SV32OQaHros1"
      },
      "execution_count": null,
      "outputs": []
    },
    {
      "cell_type": "code",
      "source": [
        "print(\"Columns: \", data.columns)\n",
        "selector.support_"
      ],
      "metadata": {
        "colab": {
          "base_uri": "https://localhost:8080/"
        },
        "id": "e58vnxFTroqA",
        "outputId": "bbe889bc-c5f7-41ec-c4f7-ca3cc697b733"
      },
      "execution_count": null,
      "outputs": [
        {
          "output_type": "stream",
          "name": "stdout",
          "text": [
            "Columns:  Index(['MONTH', 'DISTANCE_x', 'PHASE_OF_FLIGHT', 'AOS', 'PRECIPITATION', 'SKY',\n",
            "       'STR_RAD', 'STR_WINDSHLD', 'STR_NOSE', 'STR_ENG1', 'STR_ENG2',\n",
            "       'STR_ENG3', 'STR_ENG4', 'STR_PROP', 'STR_WING_ROT', 'STR_FUSE',\n",
            "       'STR_LG', 'STR_TAIL', 'STR_LGHTS', 'IsDelay', 'PATH', 'ARR_TIME_BLOCK',\n",
            "       'DEP_TIME_BLOCK'],\n",
            "      dtype='object')\n"
          ]
        },
        {
          "output_type": "execute_result",
          "data": {
            "text/plain": [
              "array([ True,  True,  True,  True,  True,  True, False,  True,  True,\n",
              "       False, False, False, False, False, False, False, False, False,\n",
              "       False,  True,  True,  True])"
            ]
          },
          "metadata": {},
          "execution_count": 34
        }
      ]
    },
    {
      "cell_type": "code",
      "source": [
        "y_pred = selector.predict(X_test_scaled)\n",
        "y_pred = [1 if x >= 0.5 else 0 for x in y_pred]\n",
        "\n",
        "accuracy = accuracy_score(y_test, y_pred)\n",
        "print(\"Accuracy with RFE:\", accuracy)\n",
        "print(\"Classification Report:\\n\", classification_report(y_test, y_pred))"
      ],
      "metadata": {
        "colab": {
          "base_uri": "https://localhost:8080/"
        },
        "id": "Uo3PTDSQwVxZ",
        "outputId": "181d1207-9989-494b-f7cf-fc98c4768bf1"
      },
      "execution_count": null,
      "outputs": [
        {
          "output_type": "stream",
          "name": "stdout",
          "text": [
            "Accuracy with RFE: 0.7453879941434847\n",
            "Classification Report:\n",
            "               precision    recall  f1-score   support\n",
            "\n",
            "           0       0.76      0.96      0.85      5060\n",
            "           1       0.54      0.13      0.21      1770\n",
            "\n",
            "    accuracy                           0.75      6830\n",
            "   macro avg       0.65      0.54      0.53      6830\n",
            "weighted avg       0.70      0.75      0.68      6830\n",
            "\n"
          ]
        }
      ]
    },
    {
      "cell_type": "code",
      "source": [
        "# Balanced Bagging Classifier\n",
        "\n",
        "from imblearn.ensemble import BalancedBaggingClassifier\n",
        "\n",
        "#Create an instance\n",
        "classifier = BalancedBaggingClassifier(\n",
        "                                sampling_strategy='not majority',\n",
        "                                replacement=False,\n",
        "                                random_state=42)\n",
        "\n",
        "classifier.fit(X_train_scaled, y_train)\n",
        "y_pred = classifier.predict(X_test_scaled)\n",
        "\n",
        "accuracy = accuracy_score(y_test, y_pred)\n",
        "print(\"Accuracy with RFE:\", accuracy)"
      ],
      "metadata": {
        "colab": {
          "base_uri": "https://localhost:8080/"
        },
        "id": "yPMJeNt_x10h",
        "outputId": "056b3adb-0ddb-475d-edcf-0d928104bbbf"
      },
      "execution_count": null,
      "outputs": [
        {
          "output_type": "stream",
          "name": "stdout",
          "text": [
            "Accuracy with RFE: 0.7304538799414348\n"
          ]
        }
      ]
    },
    {
      "cell_type": "code",
      "execution_count": null,
      "metadata": {
        "colab": {
          "base_uri": "https://localhost:8080/",
          "height": 566
        },
        "id": "gVR3OztpsKo-",
        "outputId": "81480912-0410-4b5d-a7f3-769b0e4e585d"
      },
      "outputs": [
        {
          "output_type": "display_data",
          "data": {
            "text/plain": [
              "<Figure size 640x480 with 1 Axes>"
            ],
            "image/png": "[encoded data removed]"
          },
          "metadata": {}
        }
      ],
      "source": [
        "# Feature Importance from our best model (Random Forest)\n",
        "import matplotlib.pyplot as plt\n",
        "\n",
        "feature_importances = rf_best.feature_importances_\n",
        "feature_importances = feature_importances[1:]\n",
        "features = X_train.columns\n",
        "\n",
        "indices = np.argsort(feature_importances)[::-1]\n",
        "\n",
        "names = [features[i] for i in indices]\n",
        "\n",
        "\n",
        "plt.figure()\n",
        "plt.title(\"Feature Importance\")\n",
        "plt.bar(range(X_train.shape[1]), feature_importances[indices])\n",
        "plt.xticks(range(X_train.shape[1]), names, rotation=90)\n",
        "plt.show()"
      ]
    },
    {
      "cell_type": "code",
      "source": [],
      "metadata": {
        "id": "Zotctg_CP35U"
      },
      "execution_count": null,
      "outputs": []
    }
  ],
  "metadata": {
    "colab": {
      "provenance": []
    },
    "kernelspec": {
      "display_name": "Python 3",
      "name": "python3"
    },
    "language_info": {
      "name": "python"
    }
  },
  "nbformat": 4,
  "nbformat_minor": 0
}